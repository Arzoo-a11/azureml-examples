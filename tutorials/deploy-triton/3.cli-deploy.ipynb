{
 "metadata": {
  "language_info": {
   "codemirror_mode": {
    "name": "ipython",
    "version": 3
   },
   "file_extension": ".py",
   "mimetype": "text/x-python",
   "name": "python",
   "nbconvert_exporter": "python",
   "pygments_lexer": "ipython3",
   "version": "3.7.7-final"
  },
  "orig_nbformat": 2,
  "kernelspec": {
   "name": "python3",
   "display_name": "Python 3",
   "language": "python"
  }
 },
 "nbformat": 4,
 "nbformat_minor": 2,
 "cells": [
  {
   "cell_type": "code",
   "execution_count": null,
   "metadata": {},
   "outputs": [],
   "source": [
    "from azureml.core import Workspace\n",
    "from azureml.core import Environment\n",
    "\n",
    "ws = Workspace.from_config()\n",
    "\n",
    "env = Environment.get(ws, \"AzureML-Triton\").clone(\"AML-Triton-Vision\")\n",
    "\n",
    "for pip_package in [\"pillow\", \"numpy\"]:\n",
    "    env.python.conda_dependencies.add_pip_package(pip_package)\n",
    "\n",
    "env.environment_variables[\"WORKER_COUNT\"] = \"1\"\n",
    "\n",
    "env.register(ws)"
   ]
  },
  {
   "source": [
    "# CLI demo with curated environment\n",
    "\n",
    "## Set up Azure Subscription"
   ],
   "cell_type": "markdown",
   "metadata": {}
  },
  {
   "cell_type": "code",
   "execution_count": null,
   "metadata": {
    "tags": []
   },
   "outputs": [],
   "source": [
    "!az login --output=none"
   ]
  },
  {
   "cell_type": "code",
   "execution_count": null,
   "metadata": {},
   "outputs": [],
   "source": [
    "!az account set --subscription \"6560575d-fa06-4e7d-95fb-f962e74efd7a\"\n",
    "!az ml folder attach -w \"default\" -g \"azureml-examples\""
   ]
  },
  {
   "source": [
    "## Deploy service"
   ],
   "cell_type": "markdown",
   "metadata": {}
  },
  {
   "cell_type": "code",
   "execution_count": null,
   "metadata": {
    "tags": []
   },
   "outputs": [],
   "source": [
    "!az ml model deploy --name=\"my-triton-service\" -m densenet-onnx-example:1484 --ic=inferenceconfig.json --dc=local-deployment-config.json -e=AML-Triton-Vision"
   ]
  },
  {
   "source": [
    "## Test service"
   ],
   "cell_type": "markdown",
   "metadata": {}
  },
  {
   "cell_type": "code",
   "execution_count": null,
   "metadata": {},
   "outputs": [],
   "source": [
    "!curl \"https://aka.ms/peacock-pic\" -L --output \"file.jpg\",\n",
    "!curl --request POST --data-binary \"@file.jpg\" \"http://localhost:6789/score\""
   ]
  },
  {
   "source": [
    "## Delete service"
   ],
   "cell_type": "markdown",
   "metadata": {}
  },
  {
   "cell_type": "code",
   "execution_count": null,
   "metadata": {},
   "outputs": [],
   "source": [
    "!az ml service delete --name='my-triton-service'"
   ]
  },
  {
   "cell_type": "code",
   "execution_count": null,
   "metadata": {},
   "outputs": [],
   "source": []
  }
 ]
}