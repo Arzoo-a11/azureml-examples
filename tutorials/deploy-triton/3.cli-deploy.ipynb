{
 "metadata": {
  "language_info": {
   "codemirror_mode": {
    "name": "ipython",
    "version": 3
   },
   "file_extension": ".py",
   "mimetype": "text/x-python",
   "name": "python",
   "nbconvert_exporter": "python",
   "pygments_lexer": "ipython3",
   "version": "3.7.7-final"
  },
  "orig_nbformat": 2,
  "kernelspec": {
   "name": "python3",
   "display_name": "Python 3",
   "language": "python"
  }
 },
 "nbformat": 4,
 "nbformat_minor": 2,
 "cells": [
  {
   "cell_type": "code",
   "execution_count": null,
   "metadata": {
    "tags": [
     "outputPrepend"
    ]
   },
   "outputs": [],
   "source": [
    "!az login\n"
   ]
  },
  {
   "cell_type": "code",
   "execution_count": null,
   "metadata": {},
   "outputs": [],
   "source": [
    "!az account set --subscription \"6560575d-fa06-4e7d-95fb-f962e74efd7a\"\n",
    "!az ml folder attach -w \"default\" -g \"azureml-examples\""
   ]
  },
  {
   "cell_type": "code",
   "execution_count": null,
   "metadata": {},
   "outputs": [],
   "source": [
    "!az ml model deploy --name=\"my-triton-service\" -m densenet-onnx-example:1484 --ic=inferenceconfig.json --dc=local-deployment-config.json -e=AML-Triton-Vision"
   ]
  },
  {
   "cell_type": "code",
   "execution_count": 18,
   "metadata": {},
   "outputs": [
    {
     "output_type": "stream",
     "name": "stdout",
     "text": [
      "\u001b[91m{\n",
      "    \"Azure-cli-ml Version\": \"1.21.0\",\n",
      "    \"Error\": {\n",
      "        \"Error\": \"Error, no service/endpoint with name my-triton-service found in workspace default in resource group azureml-examples.\"\n",
      "    }\n",
      "}\u001b[0m\n",
      "\u001b[0m"
     ]
    }
   ],
   "source": [
    "!az ml service delete --name='my-triton-service'"
   ]
  },
  {
   "cell_type": "code",
   "execution_count": null,
   "metadata": {},
   "outputs": [],
   "source": []
  }
 ]
}